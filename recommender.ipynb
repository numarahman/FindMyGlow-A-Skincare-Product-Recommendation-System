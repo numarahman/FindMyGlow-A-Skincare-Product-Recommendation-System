{
 "cells": [
  {
   "cell_type": "code",
   "execution_count": null,
   "metadata": {},
   "outputs": [
    {
     "name": "stdout",
     "output_type": "stream",
     "text": [
      "/bin/bash: pip: command not found\n",
      "/bin/bash: pip: command not found\n"
     ]
    }
   ],
   "source": [
    "%pip install pandas\n",
    "%pip install scikit-learn"
   ]
  },
  {
   "cell_type": "code",
   "execution_count": 25,
   "metadata": {},
   "outputs": [],
   "source": [
    "import pandas as pd\n",
    "from sklearn.feature_extraction.text import TfidfVectorizer\n",
    "from sklearn.preprocessing import StandardScaler\n",
    "from sklearn.metrics.pairwise import cosine_similarity\n",
    "import joblib"
   ]
  },
  {
   "cell_type": "code",
   "execution_count": 26,
   "metadata": {},
   "outputs": [],
   "source": [
    "product_df = pd.read_csv('complete_skincare_dataset.csv')"
   ]
  },
  {
   "cell_type": "code",
   "execution_count": null,
   "metadata": {},
   "outputs": [],
   "source": [
    "def get_skin_type_description(row):\n",
    "    skin_types = []\n",
    "    if row['for_dry_skin'] == 1:\n",
    "        skin_types.append('dry skin')\n",
    "    if row['for_oily_skin'] == 1:\n",
    "        skin_types.append('oily skin')\n",
    "    if row['for_combination_skin'] == 1:\n",
    "        skin_types.append('combination skin')\n",
    "    return ' '.join(skin_types)\n",
    "\n",
    "product_df['skin_text'] = product_df.apply(get_skin_type_description, axis=1)\n",
    "\n",
    "# Enrich combined_text\n",
    "product_df['combined_text'] = (\n",
    "    product_df['ingredients_cleaned'].fillna('') + ' ' +\n",
    "    product_df['highlights_cleaned'].fillna('') + ' ' +\n",
    "    product_df['product_category'].fillna('') + ' ' +\n",
    "    product_df['skin_text']\n",
    ")"
   ]
  },
  {
   "cell_type": "code",
   "execution_count": 51,
   "metadata": {},
   "outputs": [
    {
     "data": {
      "text/plain": [
       "['tfidf_matrix.pkl']"
      ]
     },
     "execution_count": 51,
     "metadata": {},
     "output_type": "execute_result"
    }
   ],
   "source": [
    "vectorizer = TfidfVectorizer(stop_words='english')\n",
    "tfidf_matrix = vectorizer.fit_transform(product_df['combined_text'])\n",
    "\n",
    "# Save both\n",
    "joblib.dump(vectorizer, 'tfidf_vectorizer.pkl')\n",
    "joblib.dump(tfidf_matrix, 'tfidf_matrix.pkl')"
   ]
  },
  {
   "cell_type": "code",
   "execution_count": 38,
   "metadata": {},
   "outputs": [],
   "source": [
    "def recommend_similar(product_index, tfidf_matrix, product_df, top_n=10):\n",
    "    cosine_sim = cosine_similarity(tfidf_matrix[product_index], tfidf_matrix).flatten()\n",
    "    similar_indices = cosine_sim.argsort()[::-1][1:top_n+1]\n",
    "    return product_df.iloc[similar_indices][['product_name', 'brand_name', 'price_usd', 'rating', 'product_category']]"
   ]
  },
  {
   "cell_type": "code",
   "execution_count": 53,
   "metadata": {},
   "outputs": [],
   "source": [
    "def recommend_similar(product_index, tfidf_matrix, product_df, top_n=10):\n",
    "    # Compute cosine similarity scores\n",
    "    cosine_sim = cosine_similarity(tfidf_matrix[product_index], tfidf_matrix).flatten()\n",
    "\n",
    "    # Get the indices of the top N most similar products (excluding the product itself)\n",
    "    similar_indices = cosine_sim.argsort()[::-1][1:top_n+1]\n",
    "\n",
    "    # Select the relevant products\n",
    "    similar_products = product_df.iloc[similar_indices].copy()\n",
    "\n",
    "    # Add a similarity_score column to the results\n",
    "    similar_products['similarity_score'] = cosine_sim[similar_indices]\n",
    "\n",
    "    # Return selected columns + similarity score\n",
    "    return similar_products[['product_name', 'brand_name', 'product_category', 'similarity_score']]\n"
   ]
  },
  {
   "cell_type": "code",
   "execution_count": 54,
   "metadata": {},
   "outputs": [
    {
     "name": "stdout",
     "output_type": "stream",
     "text": [
      "Recommendations for: Liquid Gold Exfoliating Treatment with Glycolic acid\n",
      "                                           product_name          brand_name  \\\n",
      "34    Mini Liquid Gold Exfoliating Treatment with Gl...             Alpha-H   \n",
      "1156   Ultra Pure High-Potency 9.8% Glycolic Acid Serum  Kiehl's Since 1851   \n",
      "1031              Bye Bye Pores 10% Glycolic Acid Serum        IT Cosmetics   \n",
      "677                    Faceshot Vitamin Ampoules Refill             FaceGym   \n",
      "1445                            Glow2OH Dark Spot Toner        OLEHENRIKSEN   \n",
      "2126                    Glycolic Acid Exfoliating Toner      The INKEY List   \n",
      "1667       SuperFruit Exfoliating Tonic 8% AHA Solution    ROSE Ingleton MD   \n",
      "673   Faceshot Electric Microneedling Device + Vitam...             FaceGym   \n",
      "1472                       Mini Glow2OH Dark Spot Toner        OLEHENRIKSEN   \n",
      "1594  Even Smoother Glycolic Retinol Resurfacing Pee...   Peter Thomas Roth   \n",
      "\n",
      "       product_category  similarity_score  \n",
      "34            Mini Size          0.926449  \n",
      "1156         Treatments          0.639229  \n",
      "1031         Treatments          0.530084  \n",
      "677          Treatments          0.516916  \n",
      "1445          Cleansers          0.491734  \n",
      "2126          Cleansers          0.486537  \n",
      "1667          Cleansers          0.464190  \n",
      "673   Value & Gift Sets          0.461137  \n",
      "1472          Mini Size          0.459957  \n",
      "1594         Treatments          0.458388  \n"
     ]
    }
   ],
   "source": [
    "example_index = 30  # change this to any product index\n",
    "recommendations = recommend_similar(example_index, tfidf_matrix, product_df)\n",
    "print(\"Recommendations for:\", product_df.iloc[example_index]['product_name'])\n",
    "print(recommendations)"
   ]
  },
  {
   "cell_type": "code",
   "execution_count": 10,
   "metadata": {},
   "outputs": [
    {
     "name": "stdout",
     "output_type": "stream",
     "text": [
      "Original product category: Treatments\n",
      "Recommended categories:\n",
      " product_category\n",
      "Treatments           3\n",
      "Moisturizers         2\n",
      "Masks                2\n",
      "Cleansers            1\n",
      "Sunscreen            1\n",
      "Value & Gift Sets    1\n",
      "Name: count, dtype: int64\n"
     ]
    }
   ],
   "source": [
    "target = product_df.iloc[example_index]\n",
    "recommended = recommend_similar(example_index, tfidf_matrix, product_df)\n",
    "\n",
    "print(\"Original product category:\", target['product_category'])\n",
    "print(\"Recommended categories:\\n\", recommended['product_category'].value_counts())"
   ]
  },
  {
   "cell_type": "code",
   "execution_count": null,
   "metadata": {},
   "outputs": [],
   "source": [
    "joblib.dump(vectorizer, 'tfidf_vectorizer.pkl')\n",
    "joblib.dump(tfidf_matrix, 'tfidf_matrix.pkl')"
   ]
  }
 ],
 "metadata": {
  "kernelspec": {
   "display_name": "Python 3",
   "language": "python",
   "name": "python3"
  },
  "language_info": {
   "codemirror_mode": {
    "name": "ipython",
    "version": 3
   },
   "file_extension": ".py",
   "mimetype": "text/x-python",
   "name": "python",
   "nbconvert_exporter": "python",
   "pygments_lexer": "ipython3",
   "version": "3.9.6"
  }
 },
 "nbformat": 4,
 "nbformat_minor": 2
}
