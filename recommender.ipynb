{
 "cells": [
  {
   "cell_type": "code",
   "execution_count": null,
   "metadata": {},
   "outputs": [
    {
     "name": "stdout",
     "output_type": "stream",
     "text": [
      "/bin/bash: pip: command not found\n",
      "/bin/bash: pip: command not found\n"
     ]
    }
   ],
   "source": [
    "%pip install pandas\n",
    "%pip install scikit-learn"
   ]
  },
  {
   "cell_type": "code",
   "execution_count": 25,
   "metadata": {},
   "outputs": [],
   "source": [
    "import pandas as pd\n",
    "from sklearn.feature_extraction.text import TfidfVectorizer\n",
    "from sklearn.preprocessing import StandardScaler\n",
    "from sklearn.metrics.pairwise import cosine_similarity\n",
    "import joblib"
   ]
  },
  {
   "cell_type": "code",
   "execution_count": 26,
   "metadata": {},
   "outputs": [],
   "source": [
    "product_df = pd.read_csv('complete_skincare_dataset.csv')"
   ]
  },
  {
   "cell_type": "code",
   "execution_count": null,
   "metadata": {},
   "outputs": [],
   "source": [
    "def get_skin_type_description(row):\n",
    "    skin_types = []\n",
    "    if row['for_dry_skin'] == 1:\n",
    "        skin_types.append('dry skin')\n",
    "    if row['for_oily_skin'] == 1:\n",
    "        skin_types.append('oily skin')\n",
    "    if row['for_combination_skin'] == 1:\n",
    "        skin_types.append('combination skin')\n",
    "    return ' '.join(skin_types)\n",
    "\n",
    "product_df['skin_text'] = product_df.apply(get_skin_type_description, axis=1)\n",
    "\n",
    "# Enrich combined_text\n",
    "product_df['combined_text'] = (\n",
    "    product_df['ingredients_cleaned'].fillna('') + ' ' +\n",
    "    product_df['highlights_cleaned'].fillna('') + ' ' +\n",
    "    product_df['product_category'].fillna('') + ' ' +\n",
    "    product_df['skin_text']\n",
    ")"
   ]
  },
  {
   "cell_type": "code",
   "execution_count": 34,
   "metadata": {},
   "outputs": [
    {
     "data": {
      "text/plain": [
       "['tfidf_matrix.pkl']"
      ]
     },
     "execution_count": 34,
     "metadata": {},
     "output_type": "execute_result"
    }
   ],
   "source": [
    "vectorizer = TfidfVectorizer(stop_words='english')\n",
    "tfidf_matrix = vectorizer.fit_transform(product_df['combined_text'])\n",
    "\n",
    "# Save both\n",
    "joblib.dump(vectorizer, 'tfidf_vectorizer.pkl')\n",
    "joblib.dump(tfidf_matrix, 'tfidf_matrix.pkl')"
   ]
  },
  {
   "cell_type": "code",
   "execution_count": 8,
   "metadata": {},
   "outputs": [],
   "source": [
    "def recommend_similar(product_index, tfidf_matrix, product_df, top_n=10):\n",
    "    cosine_sim = cosine_similarity(tfidf_matrix[product_index], tfidf_matrix).flatten()\n",
    "    similar_indices = cosine_sim.argsort()[::-1][1:top_n+1]\n",
    "    return product_df.iloc[similar_indices][['product_name', 'brand_name', 'price_usd', 'rating', 'product_category']]"
   ]
  },
  {
   "cell_type": "code",
   "execution_count": 9,
   "metadata": {},
   "outputs": [
    {
     "name": "stdout",
     "output_type": "stream",
     "text": [
      "Recommendations for: Hyaluronic Acid Booster\n",
      "                                           product_name         brand_name  \\\n",
      "1524         RESIST Perfectly Balanced Foaming Cleanser     Paula's Choice   \n",
      "2124                 Ceramide Hydrating Night Treatment     The INKEY List   \n",
      "1532                         CLEAR Oil-Free Moisturizer     Paula's Choice   \n",
      "1924                                  Mini Jet Lag Mask     Summer Fridays   \n",
      "1923                                       Jet Lag Mask     Summer Fridays   \n",
      "11          GENIUS Ultimate Anti-Aging Vitamin C+ Serum           Algenist   \n",
      "1083                            DeliKate Recovery Serum    Kate Somerville   \n",
      "1661                              Signature Moisturizer   ROSE Ingleton MD   \n",
      "1613  Max Matte Shine Control Sunscreen Broad Spectr...  Peter Thomas Roth   \n",
      "1106                                DelIKate Try Me Kit    Kate Somerville   \n",
      "\n",
      "      price_usd  rating   product_category  \n",
      "1524      22.00  4.7300          Cleansers  \n",
      "2124      15.99  4.2899         Treatments  \n",
      "1532      29.00  4.5281       Moisturizers  \n",
      "1924      26.00  4.0262              Masks  \n",
      "1923      49.00  4.0262              Masks  \n",
      "11       118.00  3.9825         Treatments  \n",
      "1083      98.00  4.6410         Treatments  \n",
      "1661      85.00  4.7000       Moisturizers  \n",
      "1613      38.00  2.4865          Sunscreen  \n",
      "1106      49.00  5.0000  Value & Gift Sets  \n"
     ]
    }
   ],
   "source": [
    "example_index = 1542  # change this to any product index\n",
    "recommendations = recommend_similar(example_index, tfidf_matrix, product_df)\n",
    "print(\"Recommendations for:\", product_df.iloc[example_index]['product_name'])\n",
    "print(recommendations)"
   ]
  },
  {
   "cell_type": "code",
   "execution_count": 10,
   "metadata": {},
   "outputs": [
    {
     "name": "stdout",
     "output_type": "stream",
     "text": [
      "Original product category: Treatments\n",
      "Recommended categories:\n",
      " product_category\n",
      "Treatments           3\n",
      "Moisturizers         2\n",
      "Masks                2\n",
      "Cleansers            1\n",
      "Sunscreen            1\n",
      "Value & Gift Sets    1\n",
      "Name: count, dtype: int64\n"
     ]
    }
   ],
   "source": [
    "target = product_df.iloc[example_index]\n",
    "recommended = recommend_similar(example_index, tfidf_matrix, product_df)\n",
    "\n",
    "print(\"Original product category:\", target['product_category'])\n",
    "print(\"Recommended categories:\\n\", recommended['product_category'].value_counts())"
   ]
  },
  {
   "cell_type": "code",
   "execution_count": null,
   "metadata": {},
   "outputs": [],
   "source": [
    "joblib.dump(vectorizer, 'tfidf_vectorizer.pkl')\n",
    "joblib.dump(tfidf_matrix, 'tfidf_matrix.pkl')"
   ]
  }
 ],
 "metadata": {
  "kernelspec": {
   "display_name": "Python 3",
   "language": "python",
   "name": "python3"
  },
  "language_info": {
   "codemirror_mode": {
    "name": "ipython",
    "version": 3
   },
   "file_extension": ".py",
   "mimetype": "text/x-python",
   "name": "python",
   "nbconvert_exporter": "python",
   "pygments_lexer": "ipython3",
   "version": "3.9.6"
  }
 },
 "nbformat": 4,
 "nbformat_minor": 2
}
